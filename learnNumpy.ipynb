{
  "nbformat": 4,
  "nbformat_minor": 0,
  "metadata": {
    "colab": {
      "name": "Untitled0.ipynb",
      "provenance": [],
      "authorship_tag": "ABX9TyMyKbpDmlib2LaALQV18D/x",
      "include_colab_link": true
    },
    "kernelspec": {
      "name": "python3",
      "display_name": "Python 3"
    },
    "language_info": {
      "name": "python"
    }
  },
  "cells": [
    {
      "cell_type": "markdown",
      "metadata": {
        "id": "view-in-github",
        "colab_type": "text"
      },
      "source": [
        "<a href=\"https://colab.research.google.com/github/TheOnlylight/PlayGround/blob/master/learnNumpy.ipynb\" target=\"_parent\"><img src=\"https://colab.research.google.com/assets/colab-badge.svg\" alt=\"Open In Colab\"/></a>"
      ]
    },
    {
      "cell_type": "code",
      "metadata": {
        "id": "nAkjQksGu-iK",
        "colab": {
          "base_uri": "https://localhost:8080/"
        },
        "outputId": "54f495c7-8bd2-4936-88aa-d257a33ad254"
      },
      "source": [
        "import numpy as pd\n",
        "a = 15*16*20\n",
        "cur = 100\n",
        "for i in range(10,30):\n",
        "    for j in range(10,30):\n",
        "        for k in range(10,30):\n",
        "            if(i*j*k>=4800 and i+j+k < cur):\n",
        "                cur = i+j+k\n",
        "                print(i,j,k,cur)"
      ],
      "execution_count": 7,
      "outputs": [
        {
          "output_type": "stream",
          "text": [
            "10 17 29 56\n",
            "10 18 27 55\n",
            "10 20 24 54\n",
            "11 19 23 53\n",
            "12 20 20 52\n",
            "15 16 20 51\n"
          ],
          "name": "stdout"
        }
      ]
    },
    {
      "cell_type": "code",
      "metadata": {
        "id": "6z26mdinz-uf"
      },
      "source": [
        ""
      ],
      "execution_count": null,
      "outputs": []
    }
  ]
}