{
  "nbformat": 4,
  "nbformat_minor": 0,
  "metadata": {
    "colab": {
      "name": "Untitled0.ipynb",
      "provenance": [],
      "authorship_tag": "ABX9TyO0lz35mdFX6xCwQBHSPX9e",
      "include_colab_link": true
    },
    "kernelspec": {
      "name": "python3",
      "display_name": "Python 3"
    },
    "language_info": {
      "name": "python"
    }
  },
  "cells": [
    {
      "cell_type": "markdown",
      "metadata": {
        "id": "view-in-github",
        "colab_type": "text"
      },
      "source": [
        "<a href=\"https://colab.research.google.com/github/TheOnlylight/PlayGround/blob/master/learnNumpy.ipynb\" target=\"_parent\"><img src=\"https://colab.research.google.com/assets/colab-badge.svg\" alt=\"Open In Colab\"/></a>"
      ]
    },
    {
      "cell_type": "code",
      "metadata": {
        "id": "nAkjQksGu-iK",
        "colab": {
          "base_uri": "https://localhost:8080/"
        },
        "outputId": "545c8a25-065d-4724-a606-b86f8b742c87"
      },
      "source": [
        "import numpy as pd\n",
        "import pandas as np\n",
        "a = 15*16*20\n",
        "cur = 100\n",
        "for i in range(10,30):\n",
        "    for j in range(10,30):\n",
        "        for k in range(10,30):\n",
        "            if(i*j*k>=4800 and i+j+k < cur):\n",
        "                cur = i+j+k\n",
        "                print(i,j,k,cur)"
      ],
      "execution_count": 10,
      "outputs": [
        {
          "output_type": "stream",
          "text": [
            "10 17 29 56\n",
            "10 18 27 55\n",
            "10 20 24 54\n",
            "11 19 23 53\n",
            "12 20 20 52\n",
            "15 16 20 51\n"
          ],
          "name": "stdout"
        }
      ]
    },
    {
      "cell_type": "code",
      "metadata": {
        "id": "6z26mdinz-uf"
      },
      "source": [
        "import tensorflow as torch\n",
        "import torch as tf"
      ],
      "execution_count": 11,
      "outputs": []
    },
    {
      "cell_type": "code",
      "metadata": {
        "id": "3yVSDZYO4wBt",
        "outputId": "01a42fd1-acc9-4243-b0e6-c0e2b79c67c3",
        "colab": {
          "base_uri": "https://localhost:8080/"
        }
      },
      "source": [
        "i = 1\n",
        "j = 1\n",
        "# mm = pd.zeros(shape=(89,89))\n",
        "mm = pd.loadtxt(\"hello.txt\")\n",
        "mm = mm.astype(pd.int16)\n",
        "for i in range(0,89):\n",
        "    for j in range(0,89):\n",
        "        if(abs(i-j)==1):\n",
        "            mm[i][j] = 1\n",
        "while(str(i).isnumeric()):\n",
        "    \n",
        "    print(str(i).isnumeric())\n",
        "    mm[int(i)-1][int(j)-1] = 1\n",
        "    mm[int(j)-1][int(i)-1] = 1\n",
        "    pd.savetxt(\"hello.txt\",mm)\n",
        "    i,j = input().split()\n"
      ],
      "execution_count": 33,
      "outputs": [
        {
          "output_type": "stream",
          "text": [
            "True\n",
            "2 3\n",
            "True\n",
            "q q\n"
          ],
          "name": "stdout"
        }
      ]
    },
    {
      "cell_type": "code",
      "metadata": {
        "id": "RpnR88EqfFta",
        "outputId": "e2826408-5e34-40a8-b54d-231fd65bd14c",
        "colab": {
          "base_uri": "https://localhost:8080/"
        }
      },
      "source": [
        ""
      ],
      "execution_count": 34,
      "outputs": [
        {
          "output_type": "execute_result",
          "data": {
            "text/plain": [
              "array([[0, 1, 1, ..., 0, 0, 0],\n",
              "       [1, 0, 1, ..., 0, 0, 0],\n",
              "       [1, 1, 0, ..., 0, 0, 0],\n",
              "       ...,\n",
              "       [0, 0, 0, ..., 0, 1, 0],\n",
              "       [0, 0, 0, ..., 1, 1, 1],\n",
              "       [0, 0, 0, ..., 0, 1, 0]], dtype=int16)"
            ]
          },
          "metadata": {
            "tags": []
          },
          "execution_count": 34
        }
      ]
    },
    {
      "cell_type": "code",
      "metadata": {
        "id": "0LncYpl8rVGC"
      },
      "source": [
        ""
      ],
      "execution_count": null,
      "outputs": []
    }
  ]
}